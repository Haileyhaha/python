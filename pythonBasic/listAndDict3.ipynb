{
 "cells": [
  {
   "cell_type": "markdown",
   "id": "1e159c8e-dfe4-49ba-9a6d-533ec692748c",
   "metadata": {},
   "source": [
    "## input -> process - storage -> output "
   ]
  },
  {
   "cell_type": "markdown",
   "id": "714355bb-9d47-4ed4-a013-3e2522e19a7a",
   "metadata": {},
   "source": [
    "## 데이터를 순서대로 저장하는 : list 구조"
   ]
  },
  {
   "cell_type": "code",
   "execution_count": 6,
   "id": "caf020aa-e553-4b35-aea2-abb5ff699e8d",
   "metadata": {},
   "outputs": [],
   "source": [
    "# 빈 리스트 만들기\n",
    "x =[]\n",
    "a = list()"
   ]
  },
  {
   "cell_type": "code",
   "execution_count": 16,
   "id": "eff1198f-e460-40e0-a7dd-3f95aae29a7f",
   "metadata": {},
   "outputs": [],
   "source": [
    "# 데이터가 있는 리스트 만들기\n",
    "y = [0,2,-4,10]\n",
    "seasons = ['봄','여름','가을','겨울']"
   ]
  },
  {
   "cell_type": "code",
   "execution_count": 12,
   "id": "a290d590-cacb-43c6-80cd-f8bfb201c3f1",
   "metadata": {},
   "outputs": [
    {
     "data": {
      "text/plain": [
       "[10]"
      ]
     },
     "execution_count": 12,
     "metadata": {},
     "output_type": "execute_result"
    }
   ],
   "source": [
    "a =[]\n",
    "a.append(10)\n",
    "a"
   ]
  },
  {
   "cell_type": "code",
   "execution_count": 18,
   "id": "3f9854a0-21e6-46a0-8953-38ecb9987de9",
   "metadata": {},
   "outputs": [
    {
     "name": "stdout",
     "output_type": "stream",
     "text": [
      "여름\n",
      "겨울\n"
     ]
    }
   ],
   "source": [
    "# 데이터에 접근\n",
    "print(seasons[1])\n",
    "print(seasons[-1])"
   ]
  },
  {
   "cell_type": "code",
   "execution_count": 24,
   "id": "e8fda617-9ee5-48d0-8726-9b9da0bb6d1e",
   "metadata": {},
   "outputs": [
    {
     "name": "stdout",
     "output_type": "stream",
     "text": [
      "['봄', '여름', '가을']\n",
      "['봄', '여름', '가을', '겨울']\n",
      "['봄', '여름', '가을', '겨울']\n"
     ]
    }
   ],
   "source": [
    "# 잘라내기 slicing\n",
    "print(seasons[0:-1])\n",
    "print(seasons[0:])\n",
    "print(seasons[:])"
   ]
  },
  {
   "cell_type": "code",
   "execution_count": 26,
   "id": "fea2d53d-43b9-4793-855b-35f52d306cc7",
   "metadata": {},
   "outputs": [],
   "source": [
    "# dictionary -  key:value 저장\n",
    "x = {}\n",
    "a = dict()"
   ]
  },
  {
   "cell_type": "code",
   "execution_count": 28,
   "id": "b7c29235-dc68-4ed6-b847-b0044ed3db91",
   "metadata": {},
   "outputs": [
    {
     "data": {
      "text/plain": [
       "{'s': 90, 'm': 95, 'l': 100, 'x': 105}"
      ]
     },
     "execution_count": 28,
     "metadata": {},
     "output_type": "execute_result"
    }
   ],
   "source": [
    "size = {'s':90 , 'm':95, 'l':100, 'x':105}\n",
    "size"
   ]
  },
  {
   "cell_type": "code",
   "execution_count": 32,
   "id": "13ed9827-0171-4cc9-a25e-c6c854773d47",
   "metadata": {},
   "outputs": [
    {
     "data": {
      "text/plain": [
       "{'s': 90, 'm': 95, 'l': 100, 'x': 105, 'xl': 110}"
      ]
     },
     "execution_count": 32,
     "metadata": {},
     "output_type": "execute_result"
    }
   ],
   "source": [
    "size['xl'] = 110\n",
    "size"
   ]
  },
  {
   "cell_type": "code",
   "execution_count": 34,
   "id": "51e4d496-f40a-4c8a-a44e-3d697ca1d48f",
   "metadata": {},
   "outputs": [
    {
     "data": {
      "text/plain": [
       "90"
      ]
     },
     "execution_count": 34,
     "metadata": {},
     "output_type": "execute_result"
    }
   ],
   "source": [
    "size['s']"
   ]
  },
  {
   "cell_type": "code",
   "execution_count": 36,
   "id": "c6ec8e23-b181-40ba-bd0a-a07b5d27055d",
   "metadata": {},
   "outputs": [
    {
     "name": "stdout",
     "output_type": "stream",
     "text": [
      "['치킨', '맥주', '사과', '귤']\n"
     ]
    }
   ],
   "source": [
    "# 오늘 뭐먹지 리스트 만들기\n",
    "menu = ['치킨','맥주','사과','귤']\n",
    "print(menu)"
   ]
  },
  {
   "cell_type": "code",
   "execution_count": 40,
   "id": "521ac8cc-f3a1-489d-9098-b3f33e178c52",
   "metadata": {},
   "outputs": [
    {
     "data": {
      "text/plain": [
       "['치킨', '맥주', '사과', '귤', '커피', '커피']"
      ]
     },
     "execution_count": 40,
     "metadata": {},
     "output_type": "execute_result"
    }
   ],
   "source": [
    "menu.append('커피')\n",
    "menu"
   ]
  },
  {
   "cell_type": "code",
   "execution_count": 46,
   "id": "1cebaad7-c703-472d-a3b0-17198bdf86d9",
   "metadata": {},
   "outputs": [
    {
     "name": "stdout",
     "output_type": "stream",
     "text": [
      "치킨\n",
      "커피\n",
      "['치킨', '맥주', '사과', '귤']\n"
     ]
    }
   ],
   "source": [
    "print(menu[0])\n",
    "print(menu[-1])\n",
    "print(menu[:-2])"
   ]
  },
  {
   "cell_type": "code",
   "execution_count": 48,
   "id": "92b9662a-9b82-4089-aaa4-22a90324afdd",
   "metadata": {},
   "outputs": [
    {
     "data": {
      "text/plain": [
       "6"
      ]
     },
     "execution_count": 48,
     "metadata": {},
     "output_type": "execute_result"
    }
   ],
   "source": [
    "# 리스트 길이 확인하기 \n",
    "len(menu)"
   ]
  },
  {
   "cell_type": "code",
   "execution_count": 56,
   "id": "ae03e496-adba-4d5f-98ae-0336cb150174",
   "metadata": {},
   "outputs": [
    {
     "name": "stdout",
     "output_type": "stream",
     "text": [
      "피카추! 왔나요?\n",
      "라이추! 왔나요?\n",
      "파이리! 왔나요?\n",
      "꼬부기! 왔나요?\n",
      "잠만보! 왔나요?\n"
     ]
    }
   ],
   "source": [
    "names=['피카추','라이추','파이리','꼬부기']\n",
    "# 1) 출석부 리스트 준비\n",
    "# 2) 이름을 print 함수로 출력\n",
    "# 3) 모든 리스트에 저장된 이름에 대해 반복 \n",
    "names.append('잠만보')\n",
    "\n",
    "for name in names:\n",
    "    print(name + '! 왔나요?')"
   ]
  },
  {
   "cell_type": "code",
   "execution_count": 65,
   "id": "a3c6182a-583b-4415-b6cb-15ce6f0fe3f7",
   "metadata": {},
   "outputs": [
    {
     "name": "stdin",
     "output_type": "stream",
     "text": [
      "먹고싶은 메뉴를 말씀해주세요:  딸기\n"
     ]
    },
    {
     "name": "stdout",
     "output_type": "stream",
     "text": [
      "3000\n"
     ]
    }
   ],
   "source": [
    "# 1) 메뉴와 값이 저장된 리스트를 준비한다.\n",
    "# 2) 메뉴를 입력받는다.\n",
    "# 3) 입력받은 메뉴와 기존 메뉴리스트에 저장된 메뉴를 비교한다.\n",
    "# 4) 일치할 경우, 메뉴의 위치에 해당하는 값리스트를 출력한다.\n",
    "\n",
    "menuName = ['망고','딸기','수박','팥']\n",
    "menuPrice = [2500,3000,4000,5000]\n",
    "\n",
    "item = input('먹고싶은 메뉴를 말씀해주세요: ')\n",
    "for i in range(len(menuName)):\n",
    "    if item == menuName[i]:\n",
    "        print(menuPrice[i])"
   ]
  },
  {
   "cell_type": "code",
   "execution_count": 71,
   "id": "fdfce19e-4d77-4d89-b390-226785bb0702",
   "metadata": {},
   "outputs": [
    {
     "name": "stdout",
     "output_type": "stream",
     "text": [
      "{'망고': 3000, '딸기': 2500, '수박': 1000, '팥': 7000}\n",
      "{'망고': 3000, '딸기': 2500, '수박': 1000, '팥': 7000, '우유': 4000}\n"
     ]
    }
   ],
   "source": [
    "# 딕셔너리 \n",
    "menu= {'망고':3000,'딸기':2500,'수박':1000,'팥':7000}\n",
    "print(menu)\n",
    "menu['우유']=4000\n",
    "print(menu)"
   ]
  },
  {
   "cell_type": "code",
   "execution_count": 73,
   "id": "e990f8bc-7e64-470e-985f-a47bd061bbfb",
   "metadata": {},
   "outputs": [
    {
     "name": "stdout",
     "output_type": "stream",
     "text": [
      "2500\n"
     ]
    }
   ],
   "source": [
    "print(menu['딸기'])"
   ]
  },
  {
   "cell_type": "code",
   "execution_count": 77,
   "id": "fe82738b-b448-4fd9-8416-9b07d405af28",
   "metadata": {},
   "outputs": [
    {
     "name": "stdin",
     "output_type": "stream",
     "text": [
      "입력해주세요 딸기\n"
     ]
    },
    {
     "name": "stdout",
     "output_type": "stream",
     "text": [
      "2500원입니다\n"
     ]
    }
   ],
   "source": [
    "#1. 메뉴 딕셔너리 준비\n",
    "#2. 먹고싶은 메뉴 입력\n",
    "#3. 입력받은 메뉴를 키로 하는 값을 출력\n",
    "item1 =input('입력해주세요')\n",
    "print(str(menu[item])+'원입니다')"
   ]
  }
 ],
 "metadata": {
  "kernelspec": {
   "display_name": "Python [conda env:base] *",
   "language": "python",
   "name": "conda-base-py"
  },
  "language_info": {
   "codemirror_mode": {
    "name": "ipython",
    "version": 3
   },
   "file_extension": ".py",
   "mimetype": "text/x-python",
   "name": "python",
   "nbconvert_exporter": "python",
   "pygments_lexer": "ipython3",
   "version": "3.12.7"
  }
 },
 "nbformat": 4,
 "nbformat_minor": 5
}
