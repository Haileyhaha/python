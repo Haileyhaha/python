{
 "cells": [
  {
   "cell_type": "code",
   "execution_count": 1,
   "id": "33eea8c6-a835-43dc-8ef4-9b0032fb57e0",
   "metadata": {},
   "outputs": [],
   "source": [
    "list1=[1,2,3,4,5,6]"
   ]
  },
  {
   "cell_type": "code",
   "execution_count": 2,
   "id": "d399ac85-cb2a-48a0-a8c7-11c05d806fb4",
   "metadata": {},
   "outputs": [
    {
     "data": {
      "text/plain": [
       "(6, 21)"
      ]
     },
     "execution_count": 2,
     "metadata": {},
     "output_type": "execute_result"
    }
   ],
   "source": [
    "sum1 = 0;\n",
    "cnt = 0; \n",
    "for i in list1:\n",
    "    cnt+=1\n",
    "    sum1+=i\n",
    "cnt,sum1"
   ]
  },
  {
   "cell_type": "code",
   "execution_count": 3,
   "id": "96c2743b-b932-4c16-a2c6-ecd8ff00a552",
   "metadata": {},
   "outputs": [
    {
     "data": {
      "text/plain": [
       "{'a': '홍길동', 'b': '김말자'}"
      ]
     },
     "execution_count": 3,
     "metadata": {},
     "output_type": "execute_result"
    }
   ],
   "source": [
    "dict1 = {}\n",
    "dict1['a'] = '홍길동'\n",
    "dict1['b'] = '김말자'\n",
    "dict1"
   ]
  },
  {
   "cell_type": "code",
   "execution_count": 4,
   "id": "a0e35135-86e9-4e71-ac3b-354fd1c61b4c",
   "metadata": {},
   "outputs": [
    {
     "data": {
      "text/plain": [
       "[1, 2, 3, 4, 5, 6, [11, 34, 17, {'bb': '홍말자', 'tt': '강남부자'}, 34]]"
      ]
     },
     "execution_count": 4,
     "metadata": {},
     "output_type": "execute_result"
    }
   ],
   "source": [
    "list1.append([11,34,17,{'bb':'홍말자','tt':'강남부자'},34])\n",
    "list1"
   ]
  },
  {
   "cell_type": "code",
   "execution_count": 5,
   "id": "ab091fac-469a-4200-89ba-aa7b7ad12b3a",
   "metadata": {},
   "outputs": [
    {
     "data": {
      "text/plain": [
       "'홍말자강남부자'"
      ]
     },
     "execution_count": 5,
     "metadata": {},
     "output_type": "execute_result"
    }
   ],
   "source": [
    "result = list1[6][3]\n",
    "a,b= result\n",
    "result[a] + result[b]"
   ]
  },
  {
   "cell_type": "code",
   "execution_count": 6,
   "id": "a532bfb9-7036-46cd-954d-f3dae26cf1b9",
   "metadata": {},
   "outputs": [
    {
     "data": {
      "text/plain": [
       "[1, 2]"
      ]
     },
     "execution_count": 6,
     "metadata": {},
     "output_type": "execute_result"
    }
   ],
   "source": [
    "list1[:2]"
   ]
  },
  {
   "cell_type": "code",
   "execution_count": 7,
   "id": "54b03e12-9da9-41fb-8f10-4e2c8008758b",
   "metadata": {},
   "outputs": [
    {
     "data": {
      "text/plain": [
       "[1,\n",
       " 2,\n",
       " 3,\n",
       " 4,\n",
       " 5,\n",
       " 6,\n",
       " [11, 34, 17, {'bb': '홍말자', 'tt': '강남부자'}, 34],\n",
       " {'bb': '김혜자', 'tt': '하희라', 'b': '최수종'}]"
      ]
     },
     "execution_count": 7,
     "metadata": {},
     "output_type": "execute_result"
    }
   ],
   "source": [
    "list1.append({'bb':'김혜자', 'tt':'하희라', 'b':'최수종'})\n",
    "list1 #{'bb':'홍말자김혜자', 'tt':'강남부자하희라')"
   ]
  },
  {
   "cell_type": "code",
   "execution_count": 8,
   "id": "fe9c0cf5-60e5-4f57-831f-373a693c9df9",
   "metadata": {},
   "outputs": [
    {
     "data": {
      "text/plain": [
       "list"
      ]
     },
     "execution_count": 8,
     "metadata": {},
     "output_type": "execute_result"
    }
   ],
   "source": [
    "type([2,3,4,11])"
   ]
  },
  {
   "cell_type": "code",
   "execution_count": 9,
   "id": "8d24bbaa-1f84-40ed-a364-2b90d65bca94",
   "metadata": {},
   "outputs": [],
   "source": [
    "list2=[]\n",
    "dict2={}"
   ]
  },
  {
   "cell_type": "code",
   "execution_count": 10,
   "id": "8568454d-7db2-4d4f-a5b4-347214eb79ab",
   "metadata": {
    "scrolled": true
   },
   "outputs": [
    {
     "name": "stdout",
     "output_type": "stream",
     "text": [
      "{'bb': '홍말자', 'tt': '강남부자'}\n",
      "{'bb': '김혜자', 'tt': '하희라', 'b': '최수종'}\n",
      "bb 김혜자\n",
      "tt 하희라\n",
      "b 최수종\n"
     ]
    },
    {
     "data": {
      "text/plain": [
       "{'bb': ['홍말자', '김혜자'], 'tt': ['강남부자', '하희라'], 'b': ['최수종']}"
      ]
     },
     "execution_count": 10,
     "metadata": {},
     "output_type": "execute_result"
    }
   ],
   "source": [
    "list1=[1,2,3,4,5,6]\n",
    "list1.append([11,34,17,{'bb':'홍말자','tt':'강남부자'},34])\n",
    "list1.append({'bb':'김혜자', 'tt':'하희라', 'b':'최수종'})\n",
    "\n",
    "for i in list1:\n",
    "    if isinstance(i,list): \n",
    "        for j in i:\n",
    "            if isinstance(j,dict):\n",
    "                print(j)\n",
    "                for k, v in j.items():\n",
    "                    dict2[k]=[v]\n",
    "    elif isinstance(i , dict):\n",
    "        print(i)\n",
    "        for k,v in i.items():\n",
    "            print(k,v)\n",
    "            if k not in dict2.keys():\n",
    "                dict2[k] = []\n",
    "            dict2[k].append(v)\n",
    "dict2"
   ]
  },
  {
   "cell_type": "code",
   "execution_count": 11,
   "id": "c114e3a8-47fa-41ef-9174-be457d2271d2",
   "metadata": {},
   "outputs": [
    {
     "data": {
      "text/plain": [
       "{'bb': '홍말자김혜자', 'tt': '강남부자하희라', 'b': '최수종'}"
      ]
     },
     "execution_count": 11,
     "metadata": {},
     "output_type": "execute_result"
    }
   ],
   "source": [
    "dict3={}\n",
    "for k,v in dict2.items():\n",
    "    if k not in dict3.keys():\n",
    "        dict3[k]=''\n",
    "    for i in v:\n",
    "        dict3[k]+=i\n",
    "dict3"
   ]
  },
  {
   "cell_type": "code",
   "execution_count": 12,
   "id": "a73111d7-9184-43d0-8029-69e8295401c2",
   "metadata": {
    "scrolled": true
   },
   "outputs": [
    {
     "name": "stdout",
     "output_type": "stream",
     "text": [
      "아니에요\n",
      "아니에요\n",
      "아니에요\n",
      "아니에요\n",
      "아니에요\n",
      "아니에요\n",
      "아니에요\n",
      "{'bb': '김혜자', 'tt': '하희라', 'b': '최수종'}\n"
     ]
    }
   ],
   "source": [
    "for i in list1:\n",
    "    if isinstance(i,dict):\n",
    "        print(i)\n",
    "    else:\n",
    "        print('아니에요')"
   ]
  },
  {
   "cell_type": "code",
   "execution_count": 13,
   "id": "306c7be2-020c-4e76-bea7-28ffab13bee5",
   "metadata": {},
   "outputs": [
    {
     "name": "stdout",
     "output_type": "stream",
     "text": [
      "1345\n",
      "9359\n",
      "{'a': 1345}\n",
      "{'b': 9359}\n"
     ]
    }
   ],
   "source": [
    "list7= [\n",
    "    { 'a':[11,12,13,14],'b':[22,33,44,55] },\n",
    "    { 'a':[7,112,131,141],'b':[223,313,414,525] },\n",
    "     { 'a':[171,127,137,143],'b':[223,332,442,552] },\n",
    "     { 'a':[70,112,130,14],'b':[223,313,440,5205] },\n",
    "]\n",
    "# {a: list 총합 }, {b: list 총합}\n",
    "aSum = 0;\n",
    "bSum = 0;\n",
    "dictA = {}\n",
    "dictB = {}\n",
    "for i in list7:\n",
    "    for j in i['a']:\n",
    "        # print(j)\n",
    "        aSum += j;\n",
    "    for k in i['b']:\n",
    "        bSum += k;\n",
    "print(aSum)\n",
    "print(bSum)\n",
    "dictA['a'] = aSum\n",
    "dictB['b'] = bSum\n",
    "print(dictA)\n",
    "print(dictB)"
   ]
  },
  {
   "cell_type": "code",
   "execution_count": 14,
   "id": "65f0d543-c6fd-4541-8749-03dc05035cf0",
   "metadata": {},
   "outputs": [
    {
     "name": "stdout",
     "output_type": "stream",
     "text": [
      "a [11, 12, 13, 14]\n",
      "b [22, 33, 44, 55]\n",
      "a [7, 112, 131, 141]\n",
      "b [223, 313, 414, 525]\n",
      "a [171, 127, 137, 143]\n",
      "b [223, 332, 442, 552]\n",
      "a [70, 112, 130, 14]\n",
      "b [223, 313, 440, 5205]\n"
     ]
    },
    {
     "data": {
      "text/plain": [
       "{'a': 1345, 'b': 9359}"
      ]
     },
     "execution_count": 14,
     "metadata": {},
     "output_type": "execute_result"
    }
   ],
   "source": [
    "result ={}\n",
    "for i in list7:\n",
    "    for k, v in i.items():\n",
    "        print(k,v)\n",
    "        if k not in result.keys():\n",
    "            result[k] = 0\n",
    "        for j in v:\n",
    "            result[k]+=j\n",
    "result"
   ]
  },
  {
   "cell_type": "code",
   "execution_count": 15,
   "id": "4b595b57-fb5a-4000-b570-c0925c94cfe7",
   "metadata": {},
   "outputs": [
    {
     "data": {
      "text/plain": [
       "[{'a': [11, 12, 13, 14], 'b': [22, 33, 44, 55]},\n",
       " {'a': [7, 112, 131, 141], 'b': [223, 313, 414, 525]},\n",
       " {'a': [171, 127, 137, 143], 'b': [223, 332, 442, 552]},\n",
       " {'a': [70, 112, 130, 14], 'b': [223, 313, 440, 5205]}]"
      ]
     },
     "execution_count": 15,
     "metadata": {},
     "output_type": "execute_result"
    }
   ],
   "source": [
    "list7= [\n",
    "    { 'a':[11,12,13,14],'b':[22,33,44,55] },\n",
    "    { 'a':[7,112,131,141],'b':[223,313,414,525] },\n",
    "     { 'a':[171,127,137,143],'b':[223,332,442,552] },\n",
    "     { 'a':[70,112,130,14],'b':[223,313,440,5205] },\n",
    "]\n",
    "list7"
   ]
  },
  {
   "cell_type": "code",
   "execution_count": 16,
   "id": "276494d0-de2c-4ca6-8908-d757aced38e1",
   "metadata": {},
   "outputs": [],
   "source": [
    "def f_dict_atract(x):\n",
    "    return x['a']"
   ]
  },
  {
   "cell_type": "code",
   "execution_count": 17,
   "id": "95f319a7-6024-439b-88ac-96264b9a3c35",
   "metadata": {
    "scrolled": true
   },
   "outputs": [
    {
     "data": {
      "text/plain": [
       "[[11, 12, 13, 14],\n",
       " [7, 112, 131, 141],\n",
       " [171, 127, 137, 143],\n",
       " [70, 112, 130, 14]]"
      ]
     },
     "execution_count": 17,
     "metadata": {},
     "output_type": "execute_result"
    }
   ],
   "source": [
    "list(map( lambda x: f_dict_atract(x) , list7))"
   ]
  },
  {
   "cell_type": "code",
   "execution_count": 18,
   "id": "cb69a25f-e99c-4a80-b688-87eb7b7fef5b",
   "metadata": {},
   "outputs": [],
   "source": [
    "def f_dict_atract_0(x):\n",
    "    return x['a'][0]"
   ]
  },
  {
   "cell_type": "code",
   "execution_count": 19,
   "id": "863b6b7f-4ca7-44db-85fe-2e4b79f7a68f",
   "metadata": {
    "scrolled": true
   },
   "outputs": [
    {
     "data": {
      "text/plain": [
       "[11, 7, 171, 70]"
      ]
     },
     "execution_count": 19,
     "metadata": {},
     "output_type": "execute_result"
    }
   ],
   "source": [
    "list(map( lambda x: f_dict_atract_0(x) , list7))"
   ]
  },
  {
   "cell_type": "code",
   "execution_count": 20,
   "id": "3cbfc03b-b195-43b0-92e9-7a3d4fd0245a",
   "metadata": {},
   "outputs": [
    {
     "data": {
      "text/plain": [
       "259"
      ]
     },
     "execution_count": 20,
     "metadata": {},
     "output_type": "execute_result"
    }
   ],
   "source": [
    "sum(list(map( lambda x: f_dict_atract_0(x) , list7)))"
   ]
  },
  {
   "cell_type": "code",
   "execution_count": 21,
   "id": "b508ed84-ee43-430d-9928-2bdb92c1effd",
   "metadata": {},
   "outputs": [],
   "source": [
    "def f_dict_atract_1(x):\n",
    "    return x['a'][1]"
   ]
  },
  {
   "cell_type": "code",
   "execution_count": 22,
   "id": "a7673428-4e9f-40b3-8014-3d30faee45c9",
   "metadata": {},
   "outputs": [
    {
     "data": {
      "text/plain": [
       "[12, 112, 127, 112]"
      ]
     },
     "execution_count": 22,
     "metadata": {},
     "output_type": "execute_result"
    }
   ],
   "source": [
    "list(map( lambda x: f_dict_atract_1(x) , list7))"
   ]
  },
  {
   "cell_type": "code",
   "execution_count": 23,
   "id": "f6fdd792-7e81-4911-b839-6f3c5d27a53d",
   "metadata": {},
   "outputs": [
    {
     "data": {
      "text/plain": [
       "363"
      ]
     },
     "execution_count": 23,
     "metadata": {},
     "output_type": "execute_result"
    }
   ],
   "source": [
    "sum(list(map(lambda x: f_dict_atract_1(x), list7)))"
   ]
  },
  {
   "cell_type": "code",
   "execution_count": 24,
   "id": "5fd7b4bf-f9b6-44a6-8ee9-d1b1b1917561",
   "metadata": {},
   "outputs": [],
   "source": [
    "def f_dict_atract_2(x):\n",
    "    return x['a'][2]"
   ]
  },
  {
   "cell_type": "code",
   "execution_count": 25,
   "id": "e0d0d1ee-0257-452b-b281-accc4ef3a2a8",
   "metadata": {},
   "outputs": [
    {
     "data": {
      "text/plain": [
       "[13, 131, 137, 130]"
      ]
     },
     "execution_count": 25,
     "metadata": {},
     "output_type": "execute_result"
    }
   ],
   "source": [
    "list(map( lambda x: f_dict_atract_2(x) , list7))"
   ]
  },
  {
   "cell_type": "code",
   "execution_count": 26,
   "id": "826caa2b-6c04-4e44-b8cb-0ccfbe47b0b0",
   "metadata": {},
   "outputs": [],
   "source": [
    "def f_dict_atract_3(x):\n",
    "    return x['a'][3]"
   ]
  },
  {
   "cell_type": "code",
   "execution_count": 27,
   "id": "50e7a584-0580-4e64-9ea7-5c81df42f6d4",
   "metadata": {},
   "outputs": [
    {
     "data": {
      "text/plain": [
       "[14, 141, 143, 14]"
      ]
     },
     "execution_count": 27,
     "metadata": {},
     "output_type": "execute_result"
    }
   ],
   "source": [
    "list(map( lambda x: f_dict_atract_3(x) , list7))"
   ]
  },
  {
   "cell_type": "code",
   "execution_count": 28,
   "id": "f9dc48a6-1f99-47ad-bd8a-49df42a4857f",
   "metadata": {},
   "outputs": [
    {
     "data": {
      "text/plain": [
       "[11, 12, 13, 14]"
      ]
     },
     "execution_count": 28,
     "metadata": {},
     "output_type": "execute_result"
    }
   ],
   "source": [
    "f_dict_atract(list7[0])"
   ]
  },
  {
   "cell_type": "code",
   "execution_count": 29,
   "id": "bd7d3786-caa5-445e-932c-43d3dd4fd4a8",
   "metadata": {
    "scrolled": true
   },
   "outputs": [
    {
     "data": {
      "text/plain": [
       "{'a_1': 259,\n",
       " 'a_2': 363,\n",
       " 'a_3': 411,\n",
       " 'a_4': 312,\n",
       " 'b_1': 691,\n",
       " 'b_2': 991,\n",
       " 'b_3': 1340,\n",
       " 'b_4': 6337}"
      ]
     },
     "execution_count": 29,
     "metadata": {},
     "output_type": "execute_result"
    }
   ],
   "source": [
    "answer2 = {}\n",
    "for i in list7:\n",
    "    for k,v in i.items():\n",
    "        for cnt in range(len(v)) :\n",
    "            key = k + '_' + str(cnt+1)\n",
    "            if key not in answer2.keys():\n",
    "                answer2[key] = 0  \n",
    "            answer2[key] += v[cnt]    \n",
    "answer2"
   ]
  },
  {
   "cell_type": "code",
   "execution_count": 30,
   "id": "63eea35d-6398-48ca-906b-81801d5026de",
   "metadata": {},
   "outputs": [],
   "source": [
    "def f_dict_atract_merge(x):\n",
    "    return (x['a'][0], x['a'][1], x['a'][2], x['a'][3])"
   ]
  },
  {
   "cell_type": "code",
   "execution_count": 31,
   "id": "37c4f064-b609-4d01-ba65-effe78ee97a5",
   "metadata": {},
   "outputs": [
    {
     "data": {
      "text/plain": [
       "11"
      ]
     },
     "execution_count": 31,
     "metadata": {},
     "output_type": "execute_result"
    }
   ],
   "source": [
    "list7= [\n",
    "    { 'a':[11,12,13,14],'b':[22,33,44,55] },\n",
    "    { 'a':[7,112,131,141],'b':[223,313,414,525] },\n",
    "     { 'a':[171,127,137,143],'b':[223,332,442,552] },\n",
    "     { 'a':[70,112,130,14],'b':[223,313,440,5205] },\n",
    "]\n",
    "\n",
    "x, y, z, w = f_dict_atract_merge(list7[0])\n",
    "x"
   ]
  },
  {
   "cell_type": "code",
   "execution_count": 32,
   "id": "956eeb9a-9850-4e7e-87b1-5d765c1f9b20",
   "metadata": {},
   "outputs": [
    {
     "data": {
      "text/plain": [
       "(11, 12, 13, 14)"
      ]
     },
     "execution_count": 32,
     "metadata": {},
     "output_type": "execute_result"
    }
   ],
   "source": [
    "list7= [\n",
    "    { 'a':[11,12,13,14],'b':[22,33,44,55] },\n",
    "    { 'a':[7,112,131,141],'b':[223,313,414,525] },\n",
    "     { 'a':[171,127,137,143],'b':[223,332,442,552] },\n",
    "     { 'a':[70,112,130,14],'b':[223,313,440,5205] },\n",
    "]\n",
    "\n",
    "x = f_dict_atract_merge(list7[0])\n",
    "x"
   ]
  },
  {
   "cell_type": "code",
   "execution_count": 33,
   "id": "51f07e34-7106-4528-bd78-aa1347f350a3",
   "metadata": {},
   "outputs": [],
   "source": [
    "def final_sum(y,i):\n",
    "    sum1_0 = 0\n",
    "    for i in map(lambda x: f_dict_atract(y,i) , list7):\n",
    "        sum1_0+=i\n",
    "    return sum1_0"
   ]
  },
  {
   "cell_type": "code",
   "execution_count": 34,
   "id": "11efed4d-c5fa-49f8-adb4-857168473e07",
   "metadata": {},
   "outputs": [],
   "source": [
    "def f_dict_atract(x,i):\n",
    "    print('f_dict_atract',x,i)\n",
    "    return x['a'][i]"
   ]
  },
  {
   "cell_type": "code",
   "execution_count": 35,
   "id": "4c9e04f5-4dee-43db-afa8-1de603021e1a",
   "metadata": {},
   "outputs": [],
   "source": [
    "def f_dict_atract_with_key(x,key,i):\n",
    "    return x[key][i]"
   ]
  },
  {
   "cell_type": "code",
   "execution_count": 36,
   "id": "4c4583ac-8eb2-4918-b256-400eff664bed",
   "metadata": {},
   "outputs": [
    {
     "name": "stdout",
     "output_type": "stream",
     "text": [
      "f_dict_atract {'a': [11, 12, 13, 14], 'b': [22, 33, 44, 55]} 0\n",
      "f_dict_atract {'a': [7, 112, 131, 141], 'b': [223, 313, 414, 525]} 0\n",
      "f_dict_atract {'a': [171, 127, 137, 143], 'b': [223, 332, 442, 552]} 0\n",
      "f_dict_atract {'a': [70, 112, 130, 14], 'b': [223, 313, 440, 5205]} 0\n",
      "[11, 7, 171, 70]\n",
      "f_dict_atract {'a': [11, 12, 13, 14], 'b': [22, 33, 44, 55]} 1\n",
      "f_dict_atract {'a': [7, 112, 131, 141], 'b': [223, 313, 414, 525]} 1\n",
      "f_dict_atract {'a': [171, 127, 137, 143], 'b': [223, 332, 442, 552]} 1\n",
      "f_dict_atract {'a': [70, 112, 130, 14], 'b': [223, 313, 440, 5205]} 1\n",
      "[12, 112, 127, 112]\n",
      "f_dict_atract {'a': [11, 12, 13, 14], 'b': [22, 33, 44, 55]} 2\n",
      "f_dict_atract {'a': [7, 112, 131, 141], 'b': [223, 313, 414, 525]} 2\n",
      "f_dict_atract {'a': [171, 127, 137, 143], 'b': [223, 332, 442, 552]} 2\n",
      "f_dict_atract {'a': [70, 112, 130, 14], 'b': [223, 313, 440, 5205]} 2\n",
      "[13, 131, 137, 130]\n",
      "f_dict_atract {'a': [11, 12, 13, 14], 'b': [22, 33, 44, 55]} 3\n",
      "f_dict_atract {'a': [7, 112, 131, 141], 'b': [223, 313, 414, 525]} 3\n",
      "f_dict_atract {'a': [171, 127, 137, 143], 'b': [223, 332, 442, 552]} 3\n",
      "f_dict_atract {'a': [70, 112, 130, 14], 'b': [223, 313, 440, 5205]} 3\n",
      "[14, 141, 143, 14]\n"
     ]
    }
   ],
   "source": [
    "for idx, data in enumerate(list7):\n",
    "    print(list(map(lambda t:f_dict_atract(t,idx), list7)))"
   ]
  },
  {
   "cell_type": "code",
   "execution_count": 37,
   "id": "f9294a3a-63ba-425b-8d4c-f4e0836d9b26",
   "metadata": {},
   "outputs": [
    {
     "name": "stdout",
     "output_type": "stream",
     "text": [
      "[11, 7, 171, 70]\n",
      "[12, 112, 127, 112]\n",
      "[13, 131, 137, 130]\n",
      "[14, 141, 143, 14]\n"
     ]
    }
   ],
   "source": [
    "for idx, data in enumerate(list7):\n",
    "    print(list(map(lambda t:f_dict_atract_with_key(t,'a',idx), list7)))"
   ]
  }
 ],
 "metadata": {
  "kernelspec": {
   "display_name": "Python [conda env:base] *",
   "language": "python",
   "name": "conda-base-py"
  },
  "language_info": {
   "codemirror_mode": {
    "name": "ipython",
    "version": 3
   },
   "file_extension": ".py",
   "mimetype": "text/x-python",
   "name": "python",
   "nbconvert_exporter": "python",
   "pygments_lexer": "ipython3",
   "version": "3.12.7"
  }
 },
 "nbformat": 4,
 "nbformat_minor": 5
}
