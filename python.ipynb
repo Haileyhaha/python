{
 "cells": [
  {
   "cell_type": "code",
   "execution_count": 1,
   "id": "073e2407-e40a-4944-aa3d-6fccd7210d30",
   "metadata": {},
   "outputs": [
    {
     "data": {
      "text/plain": [
       "[(1, 11), (2, 22), (3, 33), (4, 44)]"
      ]
     },
     "execution_count": 1,
     "metadata": {},
     "output_type": "execute_result"
    }
   ],
   "source": [
    "## python\n",
    "## [] list, () tuple\n",
    "a = [1,2,3,4]\n",
    "b = [11,22,33,44]\n",
    "[(i,j) for i,j in zip(a,b)]"
   ]
  },
  {
   "cell_type": "code",
   "execution_count": 2,
   "id": "7bf9f47e-ecc5-4810-ae89-286c21b3b0f4",
   "metadata": {},
   "outputs": [
    {
     "data": {
      "text/plain": [
       "[[1, 11], [2, 22], [3, 33], [4, 44]]"
      ]
     },
     "execution_count": 2,
     "metadata": {},
     "output_type": "execute_result"
    }
   ],
   "source": [
    "a = [1,2,3,4]\n",
    "b = [11,22,33,44]\n",
    "[[i,j] for i,j in zip(a,b)]"
   ]
  },
  {
   "cell_type": "code",
   "execution_count": 3,
   "id": "92a0e0b5-85a6-4b0c-bb77-52773a22eef3",
   "metadata": {},
   "outputs": [
    {
     "name": "stdout",
     "output_type": "stream",
     "text": [
      "key가 없어요\n",
      "key가 없어요\n",
      "33\n",
      "key가 없어요\n"
     ]
    }
   ],
   "source": [
    "# dictionary in list\n",
    "a = [1,2,3,4]\n",
    "b = [11,22,33,44]\n",
    "x = [{i:j} for i,j in zip(a,b)]\n",
    "for i in x:\n",
    "    try:\n",
    "        # print(i[1])\n",
    "        print(i[3])\n",
    "    except:\n",
    "        print('key가 없어요')"
   ]
  },
  {
   "cell_type": "code",
   "execution_count": 4,
   "id": "8588b6da-bdb8-48ac-b831-0f797ff94515",
   "metadata": {},
   "outputs": [
    {
     "data": {
      "text/plain": [
       "[2, 4, 6, 8]"
      ]
     },
     "execution_count": 4,
     "metadata": {},
     "output_type": "execute_result"
    }
   ],
   "source": [
    "list(map(lambda x: 2*x, [1,2,3,4]))"
   ]
  },
  {
   "cell_type": "code",
   "execution_count": 5,
   "id": "48b769fc-45d1-4b27-b040-364b39b4de49",
   "metadata": {},
   "outputs": [
    {
     "data": {
      "text/plain": [
       "[{'홍길동1': 1}, {'홍길동2': 2}, {'홍길동3': 3}, {'홍길동4': 4}]"
      ]
     },
     "execution_count": 5,
     "metadata": {},
     "output_type": "execute_result"
    }
   ],
   "source": [
    "# python은 숫자와 문자를 못 더함 str()로 형변환.\n",
    "list(map(lambda x: {'홍길동'+ str(x) : x }, [1,2,3,4]))"
   ]
  },
  {
   "cell_type": "code",
   "execution_count": 6,
   "id": "96e1d19d-94f7-42ff-bd26-ff44119bd5d7",
   "metadata": {},
   "outputs": [],
   "source": [
    "def f(u,k):\n",
    "    assert(callable(k))\n",
    "    return k(u)"
   ]
  },
  {
   "cell_type": "code",
   "execution_count": 7,
   "id": "153501c1-b8a3-4dd2-bfef-24120e4360aa",
   "metadata": {},
   "outputs": [
    {
     "data": {
      "text/plain": [
       "27"
      ]
     },
     "execution_count": 7,
     "metadata": {},
     "output_type": "execute_result"
    }
   ],
   "source": [
    "x_23 = f(23, lambda x : x+4)\n",
    "x_23"
   ]
  },
  {
   "cell_type": "code",
   "execution_count": 8,
   "id": "407adcb5-c521-4be2-ac72-e544ed98abe9",
   "metadata": {},
   "outputs": [
    {
     "data": {
      "text/plain": [
       "36"
      ]
     },
     "execution_count": 8,
     "metadata": {},
     "output_type": "execute_result"
    }
   ],
   "source": [
    "x_32 = f(32, lambda x : x+4)\n",
    "x_32"
   ]
  },
  {
   "cell_type": "code",
   "execution_count": 9,
   "id": "5a4a65f3-8f3c-4c21-8d56-618ec4b34a63",
   "metadata": {},
   "outputs": [],
   "source": [
    "def rrr(x) : return x+4"
   ]
  },
  {
   "cell_type": "code",
   "execution_count": 10,
   "id": "4fd6c839-ee4f-4b81-9439-836cdb4a4ba3",
   "metadata": {},
   "outputs": [
    {
     "data": {
      "text/plain": [
       "8"
      ]
     },
     "execution_count": 10,
     "metadata": {},
     "output_type": "execute_result"
    }
   ],
   "source": [
    "f(4,rrr)"
   ]
  },
  {
   "cell_type": "code",
   "execution_count": 11,
   "id": "a4304614-5be7-4f4f-a095-cec9234ac2a9",
   "metadata": {},
   "outputs": [],
   "source": [
    "def kkk(x) : return x*4"
   ]
  },
  {
   "cell_type": "code",
   "execution_count": 12,
   "id": "7bdaf99e-8640-4aa6-995c-2c43f55eedc1",
   "metadata": {},
   "outputs": [
    {
     "data": {
      "text/plain": [
       "36"
      ]
     },
     "execution_count": 12,
     "metadata": {},
     "output_type": "execute_result"
    }
   ],
   "source": [
    "x_32 = f(32, rrr)\n",
    "x_32"
   ]
  },
  {
   "cell_type": "code",
   "execution_count": 13,
   "id": "941e5048-099f-4ffa-ba35-36cb74702dcc",
   "metadata": {},
   "outputs": [
    {
     "data": {
      "text/plain": [
       "[4, 7, 12]"
      ]
     },
     "execution_count": 13,
     "metadata": {},
     "output_type": "execute_result"
    }
   ],
   "source": [
    "list(map(lambda x:x(3), [lambda i : i+1, rrr, kkk]))"
   ]
  }
 ],
 "metadata": {
  "kernelspec": {
   "display_name": "Python [conda env:base] *",
   "language": "python",
   "name": "conda-base-py"
  },
  "language_info": {
   "codemirror_mode": {
    "name": "ipython",
    "version": 3
   },
   "file_extension": ".py",
   "mimetype": "text/x-python",
   "name": "python",
   "nbconvert_exporter": "python",
   "pygments_lexer": "ipython3",
   "version": "3.12.7"
  }
 },
 "nbformat": 4,
 "nbformat_minor": 5
}
